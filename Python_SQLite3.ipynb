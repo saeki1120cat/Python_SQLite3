{
 "cells": [
  {
   "cell_type": "markdown",
   "id": "51aae01f",
   "metadata": {},
   "source": [
    "### SQLite資料庫\n",
    "* 不需要安裝額外的資料庫管理程式或伺服器，只要一個檔案就可以使用的資料庫系統SQLite，是初學者和小型資料庫應用程式的最佳選擇，儘管嚴格來說它其實還不算是一個資料庫管理系統。\n",
    "* SQLite是一個以檔案為基礎的非常精簡版的SQL資料庫管理系統，它的最主要特色是沒有外部的伺服器系統或是執行中的對應程式，所有的操作都內嵌在操作資料庫的應用程式中（也就是我們編寫的程式），對於Python來說，只要載入對應的模組即可立即上手使用。"
   ]
  },
  {
   "cell_type": "code",
   "execution_count": null,
   "id": "240c345d",
   "metadata": {},
   "outputs": [],
   "source": [
    "#建立資料庫\n",
    "import sqlite3\n",
    "con = sqlite3.connect('mydatabase.db')"
   ]
  },
  {
   "cell_type": "code",
   "execution_count": null,
   "id": "435ca0f2",
   "metadata": {},
   "outputs": [],
   "source": [
    "#建立資料庫Cursor變數 (Cursor是系統為使用者開設的一個數據緩衝區，存放SQL語句的執行結果)\n",
    "con = sqlite3.connect('mydatabase.db')\n",
    "cursorObj = con.cursor()"
   ]
  },
  {
   "cell_type": "code",
   "execution_count": null,
   "id": "80dcd38e",
   "metadata": {},
   "outputs": [],
   "source": [
    "#建立Table\n",
    "employees (id, name, salary, department, position, hireDate)\n",
    "#使用 DB browser for sqlite 檢查資料是否建立成功"
   ]
  },
  {
   "cell_type": "code",
   "execution_count": null,
   "id": "9c39b79d",
   "metadata": {},
   "outputs": [],
   "source": [
    "#插入一筆資料到Table\n",
    "cursorObj.execute(\"INSERT INTO employees VALUES(1, 'John', 700, 'HR', 'Manager', '2017-01-04')\")\n",
    "con.commit()\n",
    "#VALUES裡面的值，可用?代替，表示缺失的空值"
   ]
  },
  {
   "cell_type": "code",
   "execution_count": null,
   "id": "39db292e",
   "metadata": {},
   "outputs": [],
   "source": [
    "#更新資料到Table\n",
    "import sqlite3\n",
    "con = sqlite3.connect('mydatabase.db')\n",
    "\n",
    "def sql_update(con):\n",
    "    cursorObj = con.cursor()\n",
    "    cursorObj.execute('UPDATE employees SET name = \"Rogers\" where id = 2')\n",
    "    con.commit()\n",
    "sql_update(con)"
   ]
  },
  {
   "cell_type": "code",
   "execution_count": null,
   "id": "165cde89",
   "metadata": {},
   "outputs": [],
   "source": [
    "#選擇資料\n",
    "cursorObj.execute('SELECT * FROM employees ')"
   ]
  },
  {
   "cell_type": "code",
   "execution_count": null,
   "id": "0c849782",
   "metadata": {},
   "outputs": [],
   "source": [
    "#取得所有資料\n",
    "print(row) for row in cursorObj.fetchall()"
   ]
  },
  {
   "cell_type": "code",
   "execution_count": null,
   "id": "1082e2b2",
   "metadata": {},
   "outputs": [],
   "source": [
    "#取得指定資料\n",
    "import sqlite3\n",
    "con = sqlite3.connect('mydatabase.db')\n",
    "\n",
    "def sql_fetch(con):\n",
    "    cursorObj = con.cursor()\n",
    "    cursorObj.execute('SELECT id, name FROM employees WHERE salary > 800.0')\n",
    "    rows = cursorObj.fetchall()\n",
    "    for row in rows:\n",
    "        print(row)\n",
    "sql_fetch(con)"
   ]
  },
  {
   "cell_type": "code",
   "execution_count": null,
   "id": "00acadd1",
   "metadata": {},
   "outputs": [],
   "source": [
    "#顯示有多少ROW在上一次操作時受到影響\n",
    "rows = cursorObj.fetchall()\n",
    "print len (rows)\n",
    "print(cursorObj.execute('DELETE FROM employees').rowcount)"
   ]
  },
  {
   "cell_type": "code",
   "execution_count": null,
   "id": "392485f1",
   "metadata": {},
   "outputs": [],
   "source": [
    "#列出所有Tables\n",
    "import sqlite3\n",
    "con = sqlite3.connect('mydatabase.db')\n",
    "def sql_fetch(con):\n",
    "    cursorObj = con.cursor()\n",
    "    cursorObj.execute('SELECT name from sqlite_master where type= \"table\"')\n",
    "    print(cursorObj.fetchall())\n",
    "    \n",
    "sql_fetch(con)"
   ]
  },
  {
   "cell_type": "code",
   "execution_count": null,
   "id": "5de045c0",
   "metadata": {},
   "outputs": [],
   "source": [
    "#刪除Table\n",
    "import sqlite3\n",
    " \n",
    "con = sqlite3.connect('mydatabase.db')\n",
    " \n",
    "def sql_fetch(con):\n",
    "    cursorObj = con.cursor()\n",
    "    cursorObj.execute('DROP table if exists employees')\n",
    "    con.commit()\n",
    "    \n",
    "sql_fetch(con)"
   ]
  },
  {
   "cell_type": "code",
   "execution_count": null,
   "id": "be9cce09",
   "metadata": {},
   "outputs": [],
   "source": [
    "#插入大量資料\n",
    "import sqlite3\n",
    " \n",
    "con = sqlite3.connect('mydatabase.db')\n",
    " \n",
    "cursorObj = con.cursor()\n",
    " \n",
    "cursorObj.execute('create table if not exists projects(id integer, name text)')\n",
    " \n",
    "data = [(1, \"Ridesharing\"), (2, \"Water Purifying\"), (3, \"Forensics\"), (4, \"Botany\")]\n",
    " \n",
    "cursorObj.executemany(\"INSERT INTO projects VALUES(?, ?)\", data)\n",
    " \n",
    "con.commit()"
   ]
  },
  {
   "cell_type": "code",
   "execution_count": null,
   "id": "dc976867",
   "metadata": {},
   "outputs": [],
   "source": [
    "#關閉與資料庫的連接\n",
    "con = sqlite3.connect('mydatabase.db')\n",
    "con.close()"
   ]
  },
  {
   "cell_type": "code",
   "execution_count": null,
   "id": "e95de809",
   "metadata": {},
   "outputs": [],
   "source": [
    "#建立時間資料\n",
    "import sqlite3\n",
    "import datetime\n",
    "con = sqlite3.connect('mydatabase.db')\n",
    "cursorObj = con.cursor()\n",
    "cursorObj.execute('create table if not exists assignments(id integer, name text, date date)')\n",
    "data = [(1, \"Ridesharing\", datetime.date(2017, 1, 2)), (2, \"Water Purifying\", datetime.date(2018, 3, 4))]\n",
    "cursorObj.executemany(\"INSERT INTO assignments VALUES(?, ?, ?)\", data)\n",
    "con.commit()"
   ]
  },
  {
   "cell_type": "code",
   "execution_count": null,
   "id": "cdce04f1",
   "metadata": {},
   "outputs": [],
   "source": [
    "#顯示學生成績表\n",
    "import sqlite3\n",
    "dbfile = \"school.db\"\n",
    "#使用sqlite3.connect(\"資料庫檔案路徑\")，它會傳回一個指標\n",
    "conn = sqlite3.connect(dbfile)\n",
    "#利用前面所傳回的變數conn呼叫execute函數，函數中的內容就是SQL指令的字串。\n",
    "#在execute執行之後，會傳回一個叫做Cursor的物件，它可以用來存取每一筆紀錄，也就是資料表中查詢結果的指標，由於會以列的型式來存取\n",
    "#接著，可以使用迴圈的方式把每一列找出來使用。\n",
    "rows = conn.execute(\"select * from score;\")\n",
    "for row in rows:\n",
    "    for field in row:\n",
    "        print(\"{}\\t\".format(field), end=\"\")\n",
    "    print()\n",
    "conn.close()"
   ]
  },
  {
   "cell_type": "code",
   "execution_count": null,
   "id": "b7c53ab0",
   "metadata": {},
   "outputs": [],
   "source": [
    "#輸入成績並把它們儲存入資料庫的標準作法\n",
    "import sqlite3\n",
    "dbfile = \"school.db\"\n",
    "conn = sqlite3.connect(dbfile)\n",
    "stuno = input(\"學號：\")\n",
    "chi = input(\"國文成績：\")\n",
    "eng = input(\"英文成績：\")\n",
    "mat = input(\"數學成績：\")\n",
    "his = input(\"歷史成績：\")\n",
    "geo = input(\"地理成績：\")\n",
    "sql_str = \"insert into score(stuno, chi, eng, mat, his, geo) values('{}',{},{},{},{},{});\".format(stuno, chi, eng, mat, his, geo)\n",
    "conn.execute(sql_str)\n",
    "conn.commit()\n",
    "conn.close()"
   ]
  },
  {
   "cell_type": "code",
   "execution_count": null,
   "id": "5f63a46e",
   "metadata": {},
   "outputs": [],
   "source": [
    "#設定以欄位名稱操作資料庫的程式設計標準步驟\n",
    "mport sqlite3\n",
    "dbfile = \"school.db\"\n",
    "conn = sqlite3.connect(dbfile)\n",
    "conn.row_factory = sqlite3.Row\n",
    "cur = conn.cursor()\n",
    "cur.execute(\"select * from score;\")\n",
    "rows = cur.fetchall()\n",
    "print(rows[0].keys())\n",
    "print(type(rows))\n",
    "print(type(rows[0]))\n",
    "print(\"學號\\t國文\\t英文\")\n",
    "for row in rows:\n",
    "    print(\"{}\\t{}\\t{}\".format(row['stuno'], row['chi'], row['eng']))"
   ]
  },
  {
   "cell_type": "markdown",
   "id": "5784774c",
   "metadata": {},
   "source": [
    "### 練習\n",
    "1. 讀json檔得到資料\n",
    "2. 資料整理成方便取值的樣子\n",
    "3. 判斷多筆輸入或單筆輸入\n",
    "4. 將資料按照格式填入資料庫中"
   ]
  },
  {
   "cell_type": "code",
   "execution_count": null,
   "id": "a97770cb",
   "metadata": {},
   "outputs": [],
   "source": [
    "import sqlite3\n",
    "import os\n",
    "import json\n",
    "\n",
    "class DBConnector:\n",
    "    def __init__(self, database):\n",
    "        self.connector = None\n",
    "        self.database = database\n",
    "        self.get_connection(database)\n",
    "\n",
    "    def get_connection(self, database=None):\n",
    "        if database or (self.connector is None):\n",
    "            self.connector = sqlite3.connect(database)\n",
    "            self.connector.row_factory = DBConnector.dict_factory   # 印出第一欄\n",
    "            self.connector.execute(\"PRAGMA foreign_keys = ON\")    # 可使用pk\n",
    "        return self.connector\n",
    "\n",
    "    def close_connection(self):\n",
    "        if self.connector is not None:\n",
    "            self.connector.close()\n",
    "\n",
    "    def remove_db(self):\n",
    "        if os.path.isfile(self.database):\n",
    "            os.remove(self.database)\n",
    "\n",
    "    @staticmethod\n",
    "    def dict_factory(cursor, row):\n",
    "        return {column[0]: row[index] for index, column in enumerate(cursor.description)}\n",
    "\n",
    "\n",
    "def insert_data(table_name, data_file, multiple_insert):\n",
    "    database = \"./student_score.db\"\n",
    "    db_connector = DBConnector(database)\n",
    "    connection = db_connector.get_connection()\n",
    "    cursor = connection.cursor()\n",
    "    insert_string = []\n",
    "    multiple_out = ()\n",
    "\n",
    "    with open(data_file, 'r') as f:\n",
    "        datas = json.loads(f.read())\n",
    "\n",
    "    for data in datas:\n",
    "        student = data[0]\n",
    "        subject_score = data[1]\n",
    "\n",
    "        subject_number = len(subject_score)  # subject_number = 10\n",
    "        len1 = len(subject_score[0])    # len1 = 2\n",
    "\n",
    "        if (multiple_insert == True):    # 多筆輸入\n",
    "            insert_string = '''INSERT INTO {} VALUES'''.format(table_name)\n",
    "            for i in range(subject_number):\n",
    "                for j in range(0, len1, 2):\n",
    "                    multiple_out = (student, subject_score[i][j], subject_score[i][j + 1])\n",
    "                    if i == (subject_number-1):\n",
    "                        insert_string += (\"{}\".format(multiple_out))\n",
    "                    else:\n",
    "                        insert_string += (\"{},\".format(multiple_out))\n",
    "\n",
    "            insert_string += \";\"\n",
    "            cursor.execute(insert_string)\n",
    "            connection.commit()\n",
    "\n",
    "        if(multiple_insert == False):  # 單筆輸入\n",
    "            for i in range(subject_number):\n",
    "                for j in range(0, len1, 2):\n",
    "                    insert_string = '''INSERT INTO {} VALUES ('{}', '{}', {});'''.format(table_name,student,subject_score[i][j],subject_score[i][j + 1])\n",
    "                    cursor.execute(insert_string)\n",
    "            connection.commit()\n",
    "    return\n",
    "\n",
    "if __name__ == \"__main__\":  \n",
    "    insert_data(\"score\", \"dict_test2.json\", multiple_insert=True)"
   ]
  },
  {
   "cell_type": "markdown",
   "id": "ea272c8f",
   "metadata": {},
   "source": [
    "mutiple_insert=True: (多筆輸入)\n",
    "```\n",
    "INSERT INTO {\"table_name\"} VALUES ('{student name}', '{subject 1}', {score}),\n",
    "                                    ('{student name}', '{subject 2}', {score}),\n",
    "\t\t\t\t\t\t\t\t\t('{student name}', '{subject 3}', {score}),\n",
    "\t\t\t\t\t\t\t\t\t\t\t.....\n",
    "                                  ('{student name}', '{subject n}', {score});\n",
    "```\n",
    "\n",
    "mutiple_insert=False: (單筆輸入)\n",
    "```\n",
    "INSERT INTO {\"table_name\"} VALUES ('{student name}', '{subject 1}', {score});\n",
    "INSERT INTO {\"table_name\"} VALUES ('{student name}', '{subject 2}', {score});\n",
    "INSERT INTO {\"table_name\"} VALUES ('{student name}', '{subject 3}', {score});\n",
    "```"
   ]
  },
  {
   "cell_type": "code",
   "execution_count": null,
   "id": "a6a72518",
   "metadata": {},
   "outputs": [],
   "source": []
  }
 ],
 "metadata": {
  "kernelspec": {
   "display_name": "Python 3",
   "language": "python",
   "name": "python3"
  },
  "language_info": {
   "codemirror_mode": {
    "name": "ipython",
    "version": 3
   },
   "file_extension": ".py",
   "mimetype": "text/x-python",
   "name": "python",
   "nbconvert_exporter": "python",
   "pygments_lexer": "ipython3",
   "version": "3.8.10"
  }
 },
 "nbformat": 4,
 "nbformat_minor": 5
}
